{
 "cells": [
  {
   "cell_type": "code",
   "execution_count": 11,
   "metadata": {
    "collapsed": false
   },
   "outputs": [
    {
     "name": "stdout",
     "output_type": "stream",
     "text": [
      "(17760, 64, 64, 1)\n",
      "(17760,)\n",
      "(17760, 2)\n",
      "Train on 14208 samples, validate on 3552 samples\n",
      "Epoch 1/7\n",
      "14208/14208 [==============================] - 9s - loss: 0.2800 - val_loss: 0.1095\n",
      "Epoch 2/7\n",
      "14208/14208 [==============================] - 9s - loss: 0.0942 - val_loss: 0.0615\n",
      "Epoch 3/7\n",
      "14208/14208 [==============================] - 9s - loss: 0.0546 - val_loss: 0.0445\n",
      "Epoch 4/7\n",
      "14208/14208 [==============================] - 9s - loss: 0.0392 - val_loss: 0.0329\n",
      "Epoch 5/7\n",
      "14208/14208 [==============================] - 9s - loss: 0.0281 - val_loss: 0.0361\n",
      "Epoch 6/7\n",
      "14208/14208 [==============================] - 9s - loss: 0.0276 - val_loss: 0.0249\n",
      "Epoch 7/7\n",
      "14208/14208 [==============================] - 9s - loss: 0.0129 - val_loss: 1.1921e-07\n"
     ]
    },
    {
     "data": {
      "image/png": "[encoded data removed]",
      "text/plain": [
       "<matplotlib.figure.Figure at 0x7f1db0efbd30>"
      ]
     },
     "metadata": {},
     "output_type": "display_data"
    }
   ],
   "source": [
    "import matplotlib.pyplot as plt\n",
    "import numpy as np\n",
    "from keras.models import Sequential\n",
    "from keras.layers import Flatten, Dense, Lambda, Cropping2D, Dropout\n",
    "from keras.layers.convolutional import Convolution2D\n",
    "from keras.layers.pooling import MaxPooling2D\n",
    "import os\n",
    "import cv2\n",
    "from sklearn.utils import shuffle\n",
    "\n",
    "#Create the convolutional neural network that will discern between cars\n",
    "#and objects that are not cars. The architecture will contain 9 convolutional\n",
    "#layers and three fully connected layers.\n",
    "\n",
    "#First, obtain all of the training vehicle images\n",
    "images = []\n",
    "labels = []\n",
    "direct = ''#'C:/Users/mdf30/src/CarND-Vehicle-Detection/'\n",
    "#get a list of all the directories inside vehicles directory, then non-vehicles\n",
    "for index,img_type in enumerate(['non-vehicles','vehicles']):\n",
    "    lod = [x[0] for x in os.walk(direct+img_type)]\n",
    "    #for each directory in the list of directories\n",
    "    for directory in lod[::-1]:\n",
    "        #for each file in the directory, if it ends in .png, it is an image.\n",
    "        #append to the list of images\n",
    "        for filename in os.listdir(directory):\n",
    "            if filename.endswith('.png'):\n",
    "                img = cv2.imread(directory+'/'+filename)\n",
    "                images.append(cv2.imread(directory+'/'+filename))\n",
    "                labels.append(index)\n",
    "#Get X_train and y_train from the lists\n",
    "X_train = np.array(images)\n",
    "X_train = X_train.reshape((X_train.shape[0],X_train.shape[1],X_train.shape[2],1))\n",
    "y_train = np.array(labels)\n",
    "#one hot encoding of y_train, if needed\n",
    "Y_train = np.zeros((y_train.shape[0],len(np.unique(y_train))))\n",
    "Y_train[np.where(y_train==0)[0]] = [1,0]\n",
    "Y_train[np.where(y_train==1)[0]] = [0,1]\n",
    "print(X_train.shape)\n",
    "print(y_train.shape)\n",
    "print(Y_train.shape)\n",
    "\n",
    "\n",
    "#Next, train all of the images using a convolutional neural network\n",
    "model = Sequential()\n",
    "model.add(Lambda(lambda x: (x -128.0)/128.0, input_shape=(64,64,X_train.shape[3])))\n",
    "#model.add(Cropping2D(cropping=((35,15), (0,0))))\n",
    "model.add(Convolution2D(24,5,5,activation=\"relu\", border_mode='same'))\n",
    "model.add(MaxPooling2D(pool_size=(2, 2)))\n",
    "model.add(Convolution2D(36,5,5,activation=\"relu\", border_mode='same'))\n",
    "model.add(MaxPooling2D(pool_size=(2, 2)))\n",
    "model.add(Convolution2D(48,5,5,activation=\"relu\", border_mode='same'))\n",
    "model.add(MaxPooling2D(pool_size=(2, 2)))\n",
    "model.add(Convolution2D(64,3,3,activation=\"relu\", border_mode='same'))\n",
    "model.add(MaxPooling2D(pool_size=(2, 2)))\n",
    "model.add(Convolution2D(64,3,3,activation=\"relu\", border_mode='same'))\n",
    "model.add(MaxPooling2D(pool_size=(2, 2)))\n",
    "model.add(Dropout(0.5))\n",
    "model.add(Flatten())\n",
    "#model.add(Dense(1164, activation='relu'))\n",
    "model.add(Dense(100, activation='relu'))\n",
    "model.add(Dense(50, activation='relu'))\n",
    "model.add(Dense(10, activation='relu'))\n",
    "model.add(Dense(2, activation='sigmoid'))\n",
    "#Compile and train the model\n",
    "model.compile(loss='categorical_crossentropy',optimizer='adam')\n",
    "X_train_shuffled, Y_train_shuffled = shuffle(X_train, Y_train)\n",
    "history_object = model.fit(X_train_shuffled,Y_train_shuffled,validation_split=0.2,shuffle=True,nb_epoch=7)\n",
    "\n",
    "#Save the model to see it run on local machine\n",
    "model.save('model_nvidia5.h5')\n",
    "\n",
    "#plot the training and validation loss for each epoch\n",
    "plt.plot(history_object.history['loss'])\n",
    "plt.plot(history_object.history['val_loss'])\n",
    "plt.title('model binary cross entropy loss')\n",
    "plt.ylabel('binary cross entropy loss')\n",
    "plt.xlabel('epoch')\n",
    "plt.legend(['training set', 'validation set'], loc='upper right')\n",
    "plt.show()"
   ]
  },
  {
   "cell_type": "code",
   "execution_count": 11,
   "metadata": {
    "collapsed": false
   },
   "outputs": [
    {
     "data": {
      "text/plain": [
       "0.0021171695999999997"
      ]
     },
     "execution_count": 11,
     "metadata": {},
     "output_type": "execute_result"
    }
   ],
   "source": []
  },
  {
   "cell_type": "code",
   "execution_count": null,
   "metadata": {
    "collapsed": true
   },
   "outputs": [],
   "source": []
  }
 ],
 "metadata": {
  "kernelspec": {
   "display_name": "Python 3",
   "language": "python",
   "name": "python3"
  },
  "language_info": {
   "codemirror_mode": {
    "name": "ipython",
    "version": 3
   },
   "file_extension": ".py",
   "mimetype": "text/x-python",
   "name": "python",
   "nbconvert_exporter": "python",
   "pygments_lexer": "ipython3",
   "version": "3.5.2"
  },
  "widgets": {
   "state": {},
   "version": "1.1.2"
  }
 },
 "nbformat": 4,
 "nbformat_minor": 2
}
