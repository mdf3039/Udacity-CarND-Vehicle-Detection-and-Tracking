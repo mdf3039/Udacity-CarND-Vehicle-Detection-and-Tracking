{
 "cells": [
  {
   "cell_type": "code",
   "execution_count": 20,
   "metadata": {
    "collapsed": false
   },
   "outputs": [
    {
     "name": "stdout",
     "output_type": "stream",
     "text": [
      "(17760, 64, 64, 1)\n",
      "(17760,)\n",
      "(17760, 2)\n",
      "Train on 14208 samples, validate on 3552 samples\n",
      "Epoch 1/3\n",
      "14208/14208 [==============================] - 10s - loss: 0.3390 - val_loss: 0.5703\n",
      "Epoch 2/3\n",
      "14208/14208 [==============================] - 9s - loss: 0.1135 - val_loss: 0.8656\n",
      "Epoch 3/3\n",
      "14208/14208 [==============================] - 9s - loss: 0.0628 - val_loss: 0.2173\n"
     ]
    },
    {
     "data": {
      "image/png": "[encoded data removed]",
      "text/plain": [
       "<matplotlib.figure.Figure at 0x7f1a904c8fd0>"
      ]
     },
     "metadata": {},
     "output_type": "display_data"
    }
   ],
   "source": [
    "import matplotlib.pyplot as plt\n",
    "import numpy as np\n",
    "import os\n",
    "import cv2\n",
    "from tensorflow.contrib.layers import flatten\n",
    "import tensorflow as tf\n",
    "\n",
    "#Create the convolutional neural network that will discern between cars\n",
    "#and objects that are not cars. The architecture will contain 9 convolutional\n",
    "#layers and three fully connected layers.\n",
    "\n",
    "#First, obtain all of the training vehicle images\n",
    "images = []\n",
    "labels = []\n",
    "direct = ''#'C:/Users/mdf30/src/CarND-Vehicle-Detection/'\n",
    "#get a list of all the directories inside vehicles directory, then non-vehicles\n",
    "for index,img_type in enumerate(['non-vehicles','vehicles']):\n",
    "    lod = [x[0] for x in os.walk(direct+img_type)]\n",
    "    #for each directory in the list of directories\n",
    "    for directory in lod[::-1]:\n",
    "        #for each file in the directory, if it ends in .png, it is an image.\n",
    "        #append to the list of images\n",
    "        for filename in os.listdir(directory):\n",
    "            if filename.endswith('.png'):\n",
    "                img = cv2.imread(directory+'/'+filename)\n",
    "                gray = cv2.cvtColor(img.copy(),cv2.COLOR_BGR2GRAY)\n",
    "                normal = (gray.copy()-128)/128\n",
    "                images.append(normal.reshape((gray.shape[0],gray.shape[1],1))\n",
    "                labels.append(index)\n",
    "#Get X_train and y_train from the lists\n",
    "X_train = np.array(images)\n",
    "X_train = X_train.reshape((X_train.shape[0],X_train.shape[1],X_train.shape[2],1))\n",
    "y_train = np.array(labels)\n",
    "#one hot encoding of y_train, if needed\n",
    "Y_train = np.zeros((y_train.shape[0],len(np.unique(y_train))))\n",
    "Y_train[np.where(y_train==0)[0]] = [1,0]\n",
    "Y_train[np.where(y_train==1)[0]] = [0,1]\n",
    "print(X_train.shape)\n",
    "print(y_train.shape)\n",
    "print(Y_train.shape)\n",
    "\n",
    "\n",
    "#Next, train all of the images using a convolutional neural network\n",
    "### Define your architecture here.\n",
    "x = tf.placeholder(tf.float32,[None,int(X_train_normal.shape[1]),int(X_train_normal.shape[2]),int(X_train_normal.shape[3])])\n",
    "y_ = tf.placeholder(tf.int32, [None])\n",
    "one_hot_y = tf.one_hot(y_, 2)\n",
    "mu = 0\n",
    "sigma = 0.1\n",
    "# SOLUTION: Layer 1: Convolutional. Input = 64x64x1. Output = 60x60x6.\n",
    "conv1_W = tf.Variable(tf.truncated_normal(shape=(5, 5, int(X_train_normal.shape[3]), 6), mean = mu, stddev = sigma))\n",
    "conv1_b = tf.Variable(tf.zeros(6)+.1)\n",
    "conv1   = tf.nn.conv2d(x, conv1_W, strides=[1, 1, 1, 1], padding='VALID') + conv1_b\n",
    "# SOLUTION: Activation.\n",
    "conv1 = tf.nn.relu(conv1)\n",
    "# SOLUTION: Pooling. Input = 60x60x6. Output = 30x30x6.\n",
    "conv1 = tf.nn.max_pool(conv1, ksize=[1, 2, 2, 1], strides=[1, 2, 2, 1], padding='VALID')\n",
    "# SOLUTION: Layer 2: Convolutional. Output = 26x26x16.\n",
    "conv2_W = tf.Variable(tf.truncated_normal(shape=(5, 5, 6, 16), mean = mu, stddev = sigma))\n",
    "conv2_b = tf.Variable(tf.zeros(16)+.1)\n",
    "conv2   = tf.nn.conv2d(conv1, conv2_W, strides=[1, 1, 1, 1], padding='VALID') + conv2_b\n",
    "# SOLUTION: Activation.\n",
    "conv2 = tf.nn.relu(conv2)\n",
    "# SOLUTION: Pooling. Input = 26x26x16. Output = 13x13x16.\n",
    "conv2 = tf.nn.max_pool(conv2, ksize=[1, 2, 2, 1], strides=[1, 2, 2, 1], padding='VALID')\n",
    "# SOLUTION: Flatten. Input = 13x13x16. Output = 2704.\n",
    "fc00 = flatten(conv2)\n",
    "#Flatten conv1 as well and add a subsampling layer, Input = 30x30x6, Output = 15x15x6 = 1350\n",
    "fc01 = flatten(tf.nn.max_pool(conv1, ksize=[1, 2, 2, 1], strides=[1, 2, 2, 1], padding='VALID'))\n",
    "#Concatenate the two flattened vectors, 2704 + 1350 = 4054\n",
    "fc0 = tf.concat(1,[fc00,fc01])\n",
    "# SOLUTION: Layer 3: Fully Connected. Input = 4054. Output = 120.\n",
    "fc1_W = tf.Variable(tf.truncated_normal(shape=(4054, 120), mean = mu, stddev = sigma))\n",
    "fc1_b = tf.Variable(tf.zeros(120)+.1)\n",
    "fc1   = tf.matmul(fc0, fc1_W) + fc1_b\n",
    "# SOLUTION: Activation.\n",
    "fc1    = tf.nn.relu(fc1)\n",
    "# SOLUTION: Layer 4: Fully Connected. Input = 120. Output = 84.\n",
    "fc2_W  = tf.Variable(tf.truncated_normal(shape=(120, 84), mean = mu, stddev = sigma))\n",
    "fc2_b  = tf.Variable(tf.zeros(84)+.1)\n",
    "fc2    = tf.matmul(fc1, fc2_W) + fc2_b\n",
    "# SOLUTION: Activation.\n",
    "fc2    = tf.nn.relu(fc2)\n",
    "\"\"\"# SOLUTION: Layer 5: Fully Connected. Input = 84. Output = 50.\n",
    "fc3_W  = tf.Variable(tf.truncated_normal(shape=(84, 50), mean = mu, stddev = sigma))\n",
    "fc3_b  = tf.Variable(tf.zeros(50)+.1)\n",
    "fc3    = tf.matmul(fc2, fc3_W) + fc3_b\n",
    "# SOLUTION: Activation.\n",
    "fc3    = tf.nn.relu(fc3)\"\"\"\n",
    "#dropout is applied to ensure there is no overfitting\n",
    "#create placeholder so dropout can be turned on/off for training/testing\n",
    "keep_prob = tf.placeholder(tf.float32)\n",
    "h_fc1_drop = tf.nn.dropout(fc2, keep_prob)\n",
    "# SOLUTION: Layer 5: Fully Connected. Input = 50. Output = 43.\n",
    "fc4_W  = tf.Variable(tf.truncated_normal(shape=(84, 2), mean = mu, stddev = sigma))\n",
    "fc4_b  = tf.Variable(tf.zeros(2)+.1)\n",
    "logits = tf.matmul(h_fc1_drop, fc4_W) + fc4_b\n",
    "\n",
    "### Train model.\n",
    "### Calculate and report the accuracy on the training and validation set.\n",
    "from sklearn.utils import shuffle\n",
    "EPOCHS = 30\n",
    "BATCH_SIZE = 128\n",
    "#implement the cost function\n",
    "cross_entropy = tf.reduce_mean(tf.nn.softmax_cross_entropy_with_logits(labels=one_hot_y, logits=logits))\n",
    "#add in the L1 regularization penalty\n",
    "l2_reg = tf.contrib.layers.l2_regularizer(scale=0.001)\n",
    "#obtain all of the weights used in the network\n",
    "weights_reg = tf.trainable_variables()\n",
    "#apply the regularization to all of the weights to obtain the penalty\n",
    "l2_penalty = tf.contrib.layers.apply_regularization(l2_reg, weights_reg)\n",
    "#to train this model, use the Adam Optimizer\n",
    "learn_rate = tf.placeholder(tf.float32)\n",
    "train_step = tf.train.AdamOptimizer(learn_rate).minimize(cross_entropy)#+l2_penalty)\n",
    "#Evaluate how well the loss and accuracy of the model for a given dataset.\n",
    "correct_prediction = tf.equal(tf.argmax(logits, 1), tf.argmax(one_hot_y, 1))\n",
    "accuracy_operation = tf.reduce_mean(tf.cast(correct_prediction, tf.float32))\n",
    "saver = tf.train.Saver()\n",
    "def evaluate(X_data, y_data):\n",
    "    num_examples = len(X_data)\n",
    "    total_accuracy = 0\n",
    "    sess = tf.get_default_session()\n",
    "    for offset in range(0, num_examples, BATCH_SIZE):\n",
    "        batch_x, batch_y = X_data[offset:offset+BATCH_SIZE], y_data[offset:offset+BATCH_SIZE]\n",
    "        accuracy = sess.run(accuracy_operation, feed_dict={x: batch_x, y_: batch_y, learn_rate:0.001, keep_prob:1.0})\n",
    "        total_accuracy += (accuracy * len(batch_x))\n",
    "    return total_accuracy / num_examples\n",
    "#begin session\n",
    "sess = tf.InteractiveSession()\n",
    "sess.run(tf.global_variables_initializer())\n",
    "num_examples = len(X_train_normal)\n",
    "print(\"Training...\")\n",
    "print()\n",
    "for i in range(EPOCHS):\n",
    "    if i>20:\n",
    "        lr = 0.0005\n",
    "    else:\n",
    "        lr = 0.001\n",
    "    X_train_shuffled, y_train_shuffled = shuffle(X_train_normal, y_train)\n",
    "    for offset in range(0, num_examples, BATCH_SIZE):\n",
    "        end = offset + BATCH_SIZE\n",
    "        batch_x, batch_y = X_train_shuffled[offset:end], y_train_shuffled[offset:end]\n",
    "        sess.run(train_step, feed_dict={x: batch_x, y_: batch_y, learn_rate:lr, keep_prob:0.5})\n",
    "\n",
    "    validation_accuracy = evaluate(X_valid_normal, y_valid)\n",
    "    training_accuracy = evaluate(X_train_normal, y_train)\n",
    "    print(\"EPOCH {} ...\".format(i+1))\n",
    "    print(\"Validation Accuracy = {:.3f}\".format(validation_accuracy))\n",
    "    print(\"Training Accuracy = {:.3f}\".format(training_accuracy))\n",
    "    print()\n",
    "print(\"Finished\")\n",
    "\n"
   ]
  },
  {
   "cell_type": "code",
   "execution_count": 11,
   "metadata": {
    "collapsed": false
   },
   "outputs": [
    {
     "data": {
      "text/plain": [
       "0.0021171695999999997"
      ]
     },
     "execution_count": 11,
     "metadata": {},
     "output_type": "execute_result"
    }
   ],
   "source": []
  },
  {
   "cell_type": "code",
   "execution_count": null,
   "metadata": {
    "collapsed": true
   },
   "outputs": [],
   "source": []
  }
 ],
 "metadata": {
  "kernelspec": {
   "display_name": "Python 3",
   "language": "python",
   "name": "python3"
  },
  "language_info": {
   "codemirror_mode": {
    "name": "ipython",
    "version": 3
   },
   "file_extension": ".py",
   "mimetype": "text/x-python",
   "name": "python",
   "nbconvert_exporter": "python",
   "pygments_lexer": "ipython3",
   "version": "3.5.2"
  },
  "widgets": {
   "state": {},
   "version": "1.1.2"
  }
 },
 "nbformat": 4,
 "nbformat_minor": 2
}
